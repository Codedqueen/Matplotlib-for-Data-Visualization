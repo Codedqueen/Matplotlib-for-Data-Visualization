{
 "cells": [
  {
   "cell_type": "markdown",
   "id": "41a9006f-cc85-43e1-8b34-d7947b352c82",
   "metadata": {},
   "source": [
    "Data Visualization"
   ]
  },
  {
   "cell_type": "code",
   "execution_count": 1,
   "id": "71543670-aa32-4c1d-a8fd-d8f01c26fe52",
   "metadata": {},
   "outputs": [],
   "source": [
    "import matplotlib as mpl"
   ]
  },
  {
   "cell_type": "code",
   "execution_count": 2,
   "id": "6046e5c4-907a-4790-9853-74b07f6eea26",
   "metadata": {},
   "outputs": [
    {
     "name": "stdout",
     "output_type": "stream",
     "text": [
      "matplotlib version :  3.4.3\n"
     ]
    }
   ],
   "source": [
    "print (\"matplotlib version : \" , mpl.__version__)"
   ]
  },
  {
   "cell_type": "code",
   "execution_count": 3,
   "id": "50fbae2c-3c5a-4680-800d-ea9c7ec5bfca",
   "metadata": {},
   "outputs": [],
   "source": [
    "import matplotlib.pyplot as plt"
   ]
  },
  {
   "cell_type": "code",
   "execution_count": 4,
   "id": "ed3274e3-2541-42b3-b026-66718ccc3811",
   "metadata": {},
   "outputs": [
    {
     "data": {
      "image/png": "[encoded data removed]",
      "text/plain": [
       "<Figure size 432x288 with 1 Axes>"
      ]
     },
     "metadata": {
      "needs_background": "light"
     },
     "output_type": "display_data"
    }
   ],
   "source": [
    "plt.plot(5, 5, \"o\")\n",
    "plt.show()"
   ]
  },
  {
   "cell_type": "code",
   "execution_count": 5,
   "id": "9b744736-2d2b-4fc3-8d8b-26162d799b00",
   "metadata": {},
   "outputs": [
    {
     "data": {
      "text/plain": [
       "Text(0.5, 0, 'X')"
      ]
     },
     "execution_count": 5,
     "metadata": {},
     "output_type": "execute_result"
    },
    {
     "data": {
      "image/png": "[encoded data removed]",
      "text/plain": [
       "<Figure size 432x288 with 1 Axes>"
      ]
     },
     "metadata": {
      "needs_background": "light"
     },
     "output_type": "display_data"
    }
   ],
   "source": [
    "plt.ylabel(\"Y\")\n",
    "plt.xlabel(\"X\")"
   ]
  },
  {
   "cell_type": "code",
   "execution_count": 6,
   "id": "1e4f6167-0fa6-4acc-8c8f-f58009c68398",
   "metadata": {},
   "outputs": [
    {
     "data": {
      "text/html": [
       "<div>\n",
       "<style scoped>\n",
       "    .dataframe tbody tr th:only-of-type {\n",
       "        vertical-align: middle;\n",
       "    }\n",
       "\n",
       "    .dataframe tbody tr th {\n",
       "        vertical-align: top;\n",
       "    }\n",
       "\n",
       "    .dataframe thead th {\n",
       "        text-align: right;\n",
       "    }\n",
       "</style>\n",
       "<table border=\"1\" class=\"dataframe\">\n",
       "  <thead>\n",
       "    <tr style=\"text-align: right;\">\n",
       "      <th></th>\n",
       "      <th>India</th>\n",
       "      <th>China</th>\n",
       "    </tr>\n",
       "  </thead>\n",
       "  <tbody>\n",
       "    <tr>\n",
       "      <th>0</th>\n",
       "      <td>8880</td>\n",
       "      <td>5123</td>\n",
       "    </tr>\n",
       "    <tr>\n",
       "      <th>1</th>\n",
       "      <td>8670</td>\n",
       "      <td>6682</td>\n",
       "    </tr>\n",
       "    <tr>\n",
       "      <th>2</th>\n",
       "      <td>8147</td>\n",
       "      <td>3308</td>\n",
       "    </tr>\n",
       "    <tr>\n",
       "      <th>3</th>\n",
       "      <td>7338</td>\n",
       "      <td>1863</td>\n",
       "    </tr>\n",
       "    <tr>\n",
       "      <th>4</th>\n",
       "      <td>5704</td>\n",
       "      <td>1527</td>\n",
       "    </tr>\n",
       "  </tbody>\n",
       "</table>\n",
       "</div>"
      ],
      "text/plain": [
       "   India  China\n",
       "0   8880   5123\n",
       "1   8670   6682\n",
       "2   8147   3308\n",
       "3   7338   1863\n",
       "4   5704   1527"
      ]
     },
     "execution_count": 6,
     "metadata": {},
     "output_type": "execute_result"
    }
   ],
   "source": [
    "import pandas as pd\n",
    "df = pd.DataFrame({'India': [8880, 8670, 8147, 7338,5704] , 'China': [5123, 6682, 3308, 1863, 1527]})\n",
    "df"
   ]
  },
  {
   "cell_type": "code",
   "execution_count": 7,
   "id": "84d7d83f-948a-424b-8bc3-7d7aa452c7b0",
   "metadata": {},
   "outputs": [],
   "source": [
    "df.index = [1980, 1981, 1982, 1983, 1984]"
   ]
  },
  {
   "cell_type": "code",
   "execution_count": 8,
   "id": "b0c31f3a-737c-4fe4-b3da-3daa04ec9dbb",
   "metadata": {},
   "outputs": [
    {
     "data": {
      "text/html": [
       "<div>\n",
       "<style scoped>\n",
       "    .dataframe tbody tr th:only-of-type {\n",
       "        vertical-align: middle;\n",
       "    }\n",
       "\n",
       "    .dataframe tbody tr th {\n",
       "        vertical-align: top;\n",
       "    }\n",
       "\n",
       "    .dataframe thead th {\n",
       "        text-align: right;\n",
       "    }\n",
       "</style>\n",
       "<table border=\"1\" class=\"dataframe\">\n",
       "  <thead>\n",
       "    <tr style=\"text-align: right;\">\n",
       "      <th></th>\n",
       "      <th>India</th>\n",
       "      <th>China</th>\n",
       "    </tr>\n",
       "  </thead>\n",
       "  <tbody>\n",
       "    <tr>\n",
       "      <th>1980</th>\n",
       "      <td>8880</td>\n",
       "      <td>5123</td>\n",
       "    </tr>\n",
       "    <tr>\n",
       "      <th>1981</th>\n",
       "      <td>8670</td>\n",
       "      <td>6682</td>\n",
       "    </tr>\n",
       "    <tr>\n",
       "      <th>1982</th>\n",
       "      <td>8147</td>\n",
       "      <td>3308</td>\n",
       "    </tr>\n",
       "    <tr>\n",
       "      <th>1983</th>\n",
       "      <td>7338</td>\n",
       "      <td>1863</td>\n",
       "    </tr>\n",
       "    <tr>\n",
       "      <th>1984</th>\n",
       "      <td>5704</td>\n",
       "      <td>1527</td>\n",
       "    </tr>\n",
       "  </tbody>\n",
       "</table>\n",
       "</div>"
      ],
      "text/plain": [
       "      India  China\n",
       "1980   8880   5123\n",
       "1981   8670   6682\n",
       "1982   8147   3308\n",
       "1983   7338   1863\n",
       "1984   5704   1527"
      ]
     },
     "execution_count": 8,
     "metadata": {},
     "output_type": "execute_result"
    }
   ],
   "source": [
    "df"
   ]
  },
  {
   "cell_type": "code",
   "execution_count": 9,
   "id": "07addfe0-8458-49f0-a839-613947731b6e",
   "metadata": {},
   "outputs": [
    {
     "data": {
      "text/html": [
       "<div>\n",
       "<style scoped>\n",
       "    .dataframe tbody tr th:only-of-type {\n",
       "        vertical-align: middle;\n",
       "    }\n",
       "\n",
       "    .dataframe tbody tr th {\n",
       "        vertical-align: top;\n",
       "    }\n",
       "\n",
       "    .dataframe thead th {\n",
       "        text-align: right;\n",
       "    }\n",
       "</style>\n",
       "<table border=\"1\" class=\"dataframe\">\n",
       "  <thead>\n",
       "    <tr style=\"text-align: right;\">\n",
       "      <th></th>\n",
       "      <th>India</th>\n",
       "      <th>China</th>\n",
       "    </tr>\n",
       "  </thead>\n",
       "  <tbody>\n",
       "    <tr>\n",
       "      <th>0</th>\n",
       "      <td>8880</td>\n",
       "      <td>5123</td>\n",
       "    </tr>\n",
       "    <tr>\n",
       "      <th>1</th>\n",
       "      <td>8670</td>\n",
       "      <td>6682</td>\n",
       "    </tr>\n",
       "    <tr>\n",
       "      <th>2</th>\n",
       "      <td>8147</td>\n",
       "      <td>3308</td>\n",
       "    </tr>\n",
       "    <tr>\n",
       "      <th>3</th>\n",
       "      <td>7338</td>\n",
       "      <td>1863</td>\n",
       "    </tr>\n",
       "    <tr>\n",
       "      <th>4</th>\n",
       "      <td>5704</td>\n",
       "      <td>1527</td>\n",
       "    </tr>\n",
       "  </tbody>\n",
       "</table>\n",
       "</div>"
      ],
      "text/plain": [
       "   India  China\n",
       "0   8880   5123\n",
       "1   8670   6682\n",
       "2   8147   3308\n",
       "3   7338   1863\n",
       "4   5704   1527"
      ]
     },
     "execution_count": 9,
     "metadata": {},
     "output_type": "execute_result"
    }
   ],
   "source": [
    "import pandas as pd\n",
    "india_china_df = pd.DataFrame({'India': [8880, 8670, 8147, 7338,5704] , 'China': [5123, 6682, 3308, 1863, 1527]})\n",
    "india_china_df"
   ]
  },
  {
   "cell_type": "code",
   "execution_count": 10,
   "id": "be7a090f-70ce-42b2-9e56-1227fa727fe4",
   "metadata": {},
   "outputs": [],
   "source": [
    "india_china_df.index = [1980,1981,1982,1983,1984]"
   ]
  },
  {
   "cell_type": "code",
   "execution_count": 11,
   "id": "08e628d3-e528-40d2-971e-2a0c935d38e7",
   "metadata": {},
   "outputs": [
    {
     "data": {
      "text/html": [
       "<div>\n",
       "<style scoped>\n",
       "    .dataframe tbody tr th:only-of-type {\n",
       "        vertical-align: middle;\n",
       "    }\n",
       "\n",
       "    .dataframe tbody tr th {\n",
       "        vertical-align: top;\n",
       "    }\n",
       "\n",
       "    .dataframe thead th {\n",
       "        text-align: right;\n",
       "    }\n",
       "</style>\n",
       "<table border=\"1\" class=\"dataframe\">\n",
       "  <thead>\n",
       "    <tr style=\"text-align: right;\">\n",
       "      <th></th>\n",
       "      <th>India</th>\n",
       "      <th>China</th>\n",
       "    </tr>\n",
       "  </thead>\n",
       "  <tbody>\n",
       "    <tr>\n",
       "      <th>1980</th>\n",
       "      <td>8880</td>\n",
       "      <td>5123</td>\n",
       "    </tr>\n",
       "    <tr>\n",
       "      <th>1981</th>\n",
       "      <td>8670</td>\n",
       "      <td>6682</td>\n",
       "    </tr>\n",
       "    <tr>\n",
       "      <th>1982</th>\n",
       "      <td>8147</td>\n",
       "      <td>3308</td>\n",
       "    </tr>\n",
       "    <tr>\n",
       "      <th>1983</th>\n",
       "      <td>7338</td>\n",
       "      <td>1863</td>\n",
       "    </tr>\n",
       "    <tr>\n",
       "      <th>1984</th>\n",
       "      <td>5704</td>\n",
       "      <td>1527</td>\n",
       "    </tr>\n",
       "  </tbody>\n",
       "</table>\n",
       "</div>"
      ],
      "text/plain": [
       "      India  China\n",
       "1980   8880   5123\n",
       "1981   8670   6682\n",
       "1982   8147   3308\n",
       "1983   7338   1863\n",
       "1984   5704   1527"
      ]
     },
     "execution_count": 11,
     "metadata": {},
     "output_type": "execute_result"
    }
   ],
   "source": [
    "india_china_df"
   ]
  },
  {
   "cell_type": "code",
   "execution_count": 12,
   "id": "b6bf8863-b18e-47a7-b930-84a336f43594",
   "metadata": {},
   "outputs": [
    {
     "data": {
      "text/plain": [
       "<AxesSubplot:>"
      ]
     },
     "execution_count": 12,
     "metadata": {},
     "output_type": "execute_result"
    },
    {
     "data": {
      "image/png": "[encoded data removed]",
      "text/plain": [
       "<Figure size 432x288 with 1 Axes>"
      ]
     },
     "metadata": {
      "needs_background": "light"
     },
     "output_type": "display_data"
    }
   ],
   "source": [
    "india_china_df.plot(kind = \"line\")"
   ]
  },
  {
   "cell_type": "code",
   "execution_count": 13,
   "id": "1c4f9fa6-8190-4ca8-8ede-aacbd02734dc",
   "metadata": {},
   "outputs": [
    {
     "data": {
      "text/plain": [
       "<AxesSubplot:ylabel='Frequency'>"
      ]
     },
     "execution_count": 13,
     "metadata": {},
     "output_type": "execute_result"
    },
    {
     "data": {
      "image/png": "[encoded data removed]",
      "text/plain": [
       "<Figure size 432x288 with 1 Axes>"
      ]
     },
     "metadata": {
      "needs_background": "light"
     },
     "output_type": "display_data"
    }
   ],
   "source": [
    "india_china_df.plot(kind = \"hist\")"
   ]
  },
  {
   "cell_type": "code",
   "execution_count": 14,
   "id": "483f74e6-2677-48be-9da5-084a32971117",
   "metadata": {},
   "outputs": [
    {
     "data": {
      "text/plain": [
       "<AxesSubplot:ylabel='Frequency'>"
      ]
     },
     "execution_count": 14,
     "metadata": {},
     "output_type": "execute_result"
    },
    {
     "data": {
      "image/png": "[encoded data removed]",
      "text/plain": [
       "<Figure size 432x288 with 1 Axes>"
      ]
     },
     "metadata": {
      "needs_background": "light"
     },
     "output_type": "display_data"
    }
   ],
   "source": [
    "india_china_df[\"India\"].plot(kind = \"hist\")"
   ]
  },
  {
   "cell_type": "code",
   "execution_count": 15,
   "id": "aa8d8f0b-2139-483b-9a3b-dcb2bd3536c1",
   "metadata": {},
   "outputs": [
    {
     "data": {
      "image/png": "[encoded data removed]",
      "text/plain": [
       "<Figure size 432x288 with 1 Axes>"
      ]
     },
     "metadata": {
      "needs_background": "light"
     },
     "output_type": "display_data"
    }
   ],
   "source": [
    "import matplotlib.pyplot as plt\n",
    "import numpy as np\n",
    "\n",
    "x = np.random.randn(10000)\n",
    "plt.hist(x, 100)\n",
    "plt.title(\"Normal distribution with $\\mu = 0, \\sigma = 1$\")\n",
    "plt.savefig(\"matplotlib_histogram.png\")\n",
    "plt.show()"
   ]
  },
  {
   "cell_type": "markdown",
   "id": "037e6971-8071-4e3e-b0c7-5b2919fc4346",
   "metadata": {},
   "source": [
    "### Seaborn Matplotlib"
   ]
  },
  {
   "cell_type": "code",
   "execution_count": 16,
   "id": "50e417b9-3660-46d3-883f-d4891e104386",
   "metadata": {},
   "outputs": [],
   "source": [
    "import pandas as pd"
   ]
  },
  {
   "cell_type": "code",
   "execution_count": 17,
   "id": "aad83080-7df7-4097-be34-b0468f588553",
   "metadata": {},
   "outputs": [],
   "source": [
    "df_tot = pd.DataFrame({'year':[1980, 1981, 1982, 1983, 1984], 'total':[99137, 110563, 104271, 75550, 73417]})"
   ]
  },
  {
   "cell_type": "code",
   "execution_count": 18,
   "id": "e42897e5-0c87-452a-946b-5abbd8f02a44",
   "metadata": {},
   "outputs": [
    {
     "data": {
      "text/html": [
       "<div>\n",
       "<style scoped>\n",
       "    .dataframe tbody tr th:only-of-type {\n",
       "        vertical-align: middle;\n",
       "    }\n",
       "\n",
       "    .dataframe tbody tr th {\n",
       "        vertical-align: top;\n",
       "    }\n",
       "\n",
       "    .dataframe thead th {\n",
       "        text-align: right;\n",
       "    }\n",
       "</style>\n",
       "<table border=\"1\" class=\"dataframe\">\n",
       "  <thead>\n",
       "    <tr style=\"text-align: right;\">\n",
       "      <th></th>\n",
       "      <th>year</th>\n",
       "      <th>total</th>\n",
       "    </tr>\n",
       "  </thead>\n",
       "  <tbody>\n",
       "    <tr>\n",
       "      <th>0</th>\n",
       "      <td>1980</td>\n",
       "      <td>99137</td>\n",
       "    </tr>\n",
       "    <tr>\n",
       "      <th>1</th>\n",
       "      <td>1981</td>\n",
       "      <td>110563</td>\n",
       "    </tr>\n",
       "    <tr>\n",
       "      <th>2</th>\n",
       "      <td>1982</td>\n",
       "      <td>104271</td>\n",
       "    </tr>\n",
       "    <tr>\n",
       "      <th>3</th>\n",
       "      <td>1983</td>\n",
       "      <td>75550</td>\n",
       "    </tr>\n",
       "    <tr>\n",
       "      <th>4</th>\n",
       "      <td>1984</td>\n",
       "      <td>73417</td>\n",
       "    </tr>\n",
       "  </tbody>\n",
       "</table>\n",
       "</div>"
      ],
      "text/plain": [
       "   year   total\n",
       "0  1980   99137\n",
       "1  1981  110563\n",
       "2  1982  104271\n",
       "3  1983   75550\n",
       "4  1984   73417"
      ]
     },
     "execution_count": 18,
     "metadata": {},
     "output_type": "execute_result"
    }
   ],
   "source": [
    "df_tot"
   ]
  },
  {
   "cell_type": "code",
   "execution_count": 19,
   "id": "2928f052-4676-451d-8b02-7e8795c46f17",
   "metadata": {},
   "outputs": [],
   "source": [
    "import seaborn as sns"
   ]
  },
  {
   "cell_type": "code",
   "execution_count": 20,
   "id": "65d8989f-64e1-4377-9bce-5c854451cef8",
   "metadata": {},
   "outputs": [
    {
     "data": {
      "image/png": "[encoded data removed]",
      "text/plain": [
       "<Figure size 432x288 with 1 Axes>"
      ]
     },
     "metadata": {
      "needs_background": "light"
     },
     "output_type": "display_data"
    }
   ],
   "source": [
    "ax = sns.regplot(x = 'year',y = 'total' , data = df_tot)"
   ]
  },
  {
   "cell_type": "code",
   "execution_count": 27,
   "id": "f2c8d335-9522-42f7-bd04-0988a761d31f",
   "metadata": {},
   "outputs": [
    {
     "data": {
      "image/png": "[encoded data removed]",
      "text/plain": [
       "<Figure size 432x288 with 1 Axes>"
      ]
     },
     "metadata": {
      "needs_background": "light"
     },
     "output_type": "display_data"
    }
   ],
   "source": [
    "ax = sns.regplot(x = 'year',y = 'total', data = df_tot, color = 'pink')"
   ]
  },
  {
   "cell_type": "code",
   "execution_count": 26,
   "id": "f1f5590a-c432-4a4b-b4b2-f800cd1e0e22",
   "metadata": {},
   "outputs": [
    {
     "data": {
      "image/png": "[encoded data removed]",
      "text/plain": [
       "<Figure size 432x288 with 1 Axes>"
      ]
     },
     "metadata": {
      "needs_background": "light"
     },
     "output_type": "display_data"
    }
   ],
   "source": [
    "ax = sns.regplot(x = 'year',y = 'total', data = df_tot, color = \"green\", marker='+')"
   ]
  },
  {
   "cell_type": "code",
   "execution_count": 30,
   "id": "1fb35728-70d3-4e26-8419-809a6cd2cbe3",
   "metadata": {},
   "outputs": [],
   "source": [
    "import matplotlib.pyplot as plt\n",
    "import numpy as np\n",
    "import pandas as pd"
   ]
  },
  {
   "cell_type": "code",
   "execution_count": null,
   "id": "8420c7cf-f46d-4ec2-91bd-939ba9b98a52",
   "metadata": {},
   "outputs": [],
   "source": [
    "# Tick marks\n",
    "plt.xticks(x)"
   ]
  },
  {
   "cell_type": "code",
   "execution_count": null,
   "id": "5f80679e-5b62-4d97-afa7-e7890f99c7e3",
   "metadata": {},
   "outputs": [],
   "source": [
    "#Include a legend\n",
    "plt.legend(x)"
   ]
  },
  {
   "cell_type": "code",
   "execution_count": null,
   "id": "8f683c05-0a5e-4bb8-b6a6-b607720977dd",
   "metadata": {},
   "outputs": [],
   "source": [
    "plt.savefig('nygraph.png')\n",
    "plt.show()"
   ]
  },
  {
   "cell_type": "code",
   "execution_count": null,
   "id": "113917d8-4559-476f-b8f7-4b28553331a1",
   "metadata": {},
   "outputs": [],
   "source": []
  },
  {
   "cell_type": "markdown",
   "id": "04d564d2-f09b-48bc-b32e-72565f51e97b",
   "metadata": {
    "tags": []
   },
   "source": [
    "### Basic Graph"
   ]
  },
  {
   "cell_type": "code",
   "execution_count": 31,
   "id": "5fdebd7f-c807-45b7-a363-efa07144d2a1",
   "metadata": {},
   "outputs": [
    {
     "data": {
      "text/plain": [
       "[<matplotlib.lines.Line2D at 0x1c5be6b8d30>]"
      ]
     },
     "execution_count": 31,
     "metadata": {},
     "output_type": "execute_result"
    },
    {
     "data": {
      "image/png": "[encoded data removed]",
      "text/plain": [
       "<Figure size 432x288 with 1 Axes>"
      ]
     },
     "metadata": {
      "needs_background": "light"
     },
     "output_type": "display_data"
    }
   ],
   "source": [
    "plt.plot([1, 2, 3],[2, 4, 6])"
   ]
  },
  {
   "cell_type": "code",
   "execution_count": null,
   "id": "77c04e77-515c-4314-a946-2bb0335309ff",
   "metadata": {},
   "outputs": [],
   "source": [
    "### the right way to do it"
   ]
  },
  {
   "cell_type": "code",
   "execution_count": 34,
   "id": "5fab6bca-a145-4fd5-a1a3-210c2ee704a2",
   "metadata": {},
   "outputs": [
    {
     "data": {
      "image/png": "[encoded data removed]",
      "text/plain": [
       "<Figure size 432x288 with 1 Axes>"
      ]
     },
     "metadata": {
      "needs_background": "light"
     },
     "output_type": "display_data"
    }
   ],
   "source": [
    "x = [1,2,3]\n",
    "y = [2,4,6]\n",
    "plt.plot(x,y)\n",
    "\n",
    "plt.show()"
   ]
  },
  {
   "cell_type": "code",
   "execution_count": null,
   "id": "a63268be-db0a-4aaa-b9ea-5983bf3d0f61",
   "metadata": {},
   "outputs": [],
   "source": [
    "x = [1,2,3]\n",
    "y = [2,4,6]\n",
    "plt.plot(x,y)\n",
    "\n",
    "plt.show()\n",
    "\n"
   ]
  }
 ],
 "metadata": {
  "kernelspec": {
   "display_name": "Python 3 (ipykernel)",
   "language": "python",
   "name": "python3"
  },
  "language_info": {
   "codemirror_mode": {
    "name": "ipython",
    "version": 3
   },
   "file_extension": ".py",
   "mimetype": "text/x-python",
   "name": "python",
   "nbconvert_exporter": "python",
   "pygments_lexer": "ipython3",
   "version": "3.9.7"
  }
 },
 "nbformat": 4,
 "nbformat_minor": 5
}
